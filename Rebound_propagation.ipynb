{
 "cells": [
  {
   "cell_type": "markdown",
   "metadata": {},
   "source": [
    "# import rebound package "
   ]
  },
  {
   "cell_type": "code",
   "execution_count": 1,
   "metadata": {},
   "outputs": [],
   "source": [
    "import rebound\n",
    "import datetime, julian\n",
    "import numpy as np\n",
    "import pandas as pd\n",
    "from numpy import deg2rad, rad2deg\n",
    "import progressbar\n",
    "import time as tm"
   ]
  },
  {
   "cell_type": "markdown",
   "metadata": {},
   "source": [
    "# build model"
   ]
  },
  {
   "cell_type": "code",
   "execution_count": 2,
   "metadata": {},
   "outputs": [],
   "source": [
    "# date\n",
    "date = \"2021-01-01 00:00\"\n",
    "date_info = datetime.datetime.strptime(date,\"%Y-%m-%d %H:%M\")\n",
    "MJD_model = julian.to_jd(date_info,fmt='mjd')"
   ]
  },
  {
   "cell_type": "code",
   "execution_count": 3,
   "metadata": {},
   "outputs": [
    {
     "name": "stdout",
     "output_type": "stream",
     "text": [
      "Searching NASA Horizons for 'Geocenter'... Found: Earth (399).\n",
      "Searching NASA Horizons for 'Luna'... Found: Moon (301).\n",
      "Searching NASA Horizons for 'Sun'... Found: Sun (10).\n",
      "{'length': 'au', 'mass': 'msun', 'time': 'yr2pi'}\n"
     ]
    }
   ],
   "source": [
    "# rebound simulation\n",
    "sim = rebound.Simulation()\n",
    "sim.add('Geocenter',date = date)\n",
    "sim.add('Luna')\n",
    "sim.add('Sun')\n",
    "print(f'{sim.units}')"
   ]
  },
  {
   "cell_type": "code",
   "execution_count": 4,
   "metadata": {
    "scrolled": false
   },
   "outputs": [
    {
     "name": "stdout",
     "output_type": "stream",
     "text": [
      "<rebound.Orbit instance, a=0.0025812439954974228 e=0.037521099070722715 inc=0.09154112040430387 Omega=1.3896905629985068 omega=2.3802522122941214 f=-1.63094188901329> <rebound.Orbit instance, a=0.9991716366722033 e=0.015930114396028518 inc=5.0015549439556286e-05 Omega=-2.6495341630882803 omega=1.2982011430043219 f=-0.03627589638314466>\n"
     ]
    }
   ],
   "source": [
    "earth = sim.particles[0]\n",
    "moon = sim.particles[1]\n",
    "moon_orbit = moon.calculate_orbit(primary=sim.particles[0])\n",
    "sun = sim.particles[2]\n",
    "sun_orbit = sun.calculate_orbit(primary=sim.particles[0])\n",
    "print(moon_orbit,sun_orbit)"
   ]
  },
  {
   "cell_type": "markdown",
   "metadata": {},
   "source": [
    "# insert new TP"
   ]
  },
  {
   "cell_type": "code",
   "execution_count": 5,
   "metadata": {
    "scrolled": true
   },
   "outputs": [
    {
     "name": "stdout",
     "output_type": "stream",
     "text": [
      "Moon=\n",
      "<rebound.Orbit instance, a=0.0025812439954974228 e=0.037521099070722715 inc=0.09154112040430387 Omega=1.3896905629985068 omega=2.3802522122941214 f=-1.63094188901329>\n",
      "TESS=\n",
      "<rebound.Orbit instance, a=0.001620652833573852 e=0.6732154033321679 inc=0.42657185930167696 Omega=2.7805345875531593 omega=2.0157133675533974 f=-4.634717864256814>\n"
     ]
    }
   ],
   "source": [
    "# TESS, km, deg\n",
    "TP = {'a':2.424462130465623E+05, 'e':6.732154033321741E-01, \n",
    "      'inc':2.444076719703449E+01, 'Omega':1.593128966569460E+02,\n",
    "      'omega':1.154918686689095E+02, 'M':2.106057280027349E+01\n",
    "     }\n",
    "# TESS, AU, rad\n",
    "AU = 149597870.7 #km\n",
    "TP['a'] /= AU\n",
    "sim.add(primary=earth,a=TP['a'],e=TP['e'],inc=deg2rad(TP['inc']),\n",
    "        Omega=deg2rad(TP['Omega']),omega=deg2rad(TP['omega']),\n",
    "        M=deg2rad(TP['M']))\n",
    "# add particle\n",
    "TESS = sim.particles[-1]\n",
    "TESS_orbit = TESS.calculate_orbit(primary=sim.particles[0])\n",
    "print(f'Moon=\\n{moon_orbit}')\n",
    "print(f'TESS=\\n{TESS_orbit}')\n",
    "# save to binary setup file\n",
    "simfile = f\"CislunarSun_TESS_{MJD_model}.bin\"\n",
    "sim.save(simfile)"
   ]
  },
  {
   "cell_type": "code",
   "execution_count": 6,
   "metadata": {
    "scrolled": true
   },
   "outputs": [],
   "source": [
    "fig = rebound.OrbitPlot(sim, unitlabel=\"[AU]\")"
   ]
  },
  {
   "cell_type": "markdown",
   "metadata": {},
   "source": [
    "# propagation\n",
    "\n",
    "outupt interms of $\\textbf{(AU, rad)}$"
   ]
  },
  {
   "cell_type": "markdown",
   "metadata": {},
   "source": [
    "## ias15"
   ]
  },
  {
   "cell_type": "code",
   "execution_count": 7,
   "metadata": {},
   "outputs": [
    {
     "name": "stdout",
     "output_type": "stream",
     "text": [
      "dt = 8.370913386861327 min\n",
      "ias15 accuracy = 1e-08\n"
     ]
    }
   ],
   "source": [
    "# load sim binary\n",
    "sim = rebound.Simulation(simfile)\n",
    "sim.integrator = 'ias15'\n",
    "sim.dt = 0.0001\n",
    "sim.ri_ias15.epsilon = 1e-8 # control accuracy for ias15\n",
    "print(f'dt = {sim.dt/(2*np.pi)*365.25*24*60} min')\n",
    "print(f'ias15 accuracy = {sim.ri_ias15.epsilon}')"
   ]
  },
  {
   "cell_type": "code",
   "execution_count": 8,
   "metadata": {},
   "outputs": [
    {
     "name": "stdout",
     "output_type": "stream",
     "text": [
      "model MJD = 59215.0\n"
     ]
    }
   ],
   "source": [
    "Noutputs = 1000\n",
    "Long_term_year = 30/365.25 # 1 year is 1 year on Earth, in rebound 365.25 days\n",
    "year = 2.*np.pi # One year in units where G=1\n",
    "times = np.linspace(0.,Long_term_year*year, Noutputs)\n",
    "MJD,a,e,inc,Omega,omega,M = np.zeros((7,Noutputs))\n",
    "Energy = np.zeros(Noutputs)\n",
    "x,y,z,vx,vy,vz = np.zeros((6,Noutputs))\n",
    "print(f'model MJD = {MJD_model}')"
   ]
  },
  {
   "cell_type": "code",
   "execution_count": 9,
   "metadata": {},
   "outputs": [
    {
     "name": "stderr",
     "output_type": "stream",
     "text": [
      "\r",
      "N/A% (0 of 30.0) |                       | Elapsed Time: 0:00:00 ETA:  --:--:--"
     ]
    }
   ],
   "source": [
    "# conduct integration\n",
    "sim.move_to_com()  # We always move to the center of momentum frame \n",
    "ps = sim.particles # ps is now an array of pointers and will change as the simulation runs\n",
    "bar = progressbar.ProgressBar(max_value=max(times/year*365.25)) # progress bar\n",
    "for i,time in enumerate(times):\n",
    "    bar.update(time/year*365.25) # updating bar\n",
    "    sim.integrate(time)\n",
    "    # get orbit element from numerical integration in radians with Sun\n",
    "    MJD[i] = MJD_model + time/year*365.25\n",
    "    # orbit parameters\n",
    "    orbit = ps[-1].calculate_orbit(primary=sim.particles[0])\n",
    "    a[i],e[i],inc[i] = orbit.a, orbit.e, orbit.inc\n",
    "    Omega[i],omega[i],M[i] = orbit.Omega, orbit.omega, orbit.M\n",
    "    Energy[i] = sim.calculate_energy()\n",
    "    # cartesian parameters\n",
    "    ptc = ps[-1]\n",
    "    x[i],y[i],z[i] = ptc.x, ptc.y, ptc.z\n",
    "    vx[i],vy[i],vz[i] = ptc.vx, ptc.vy, ptc.vz"
   ]
  },
  {
   "cell_type": "code",
   "execution_count": 10,
   "metadata": {},
   "outputs": [],
   "source": [
    "# write trajectory\n",
    "oe_filename=f\"traj_{sim.integrator}_oe.csv\"\n",
    "oe_array = np.column_stack((MJD,a,e,inc,Omega,omega,M))\n",
    "pd.DataFrame(oe_array).to_csv(oe_filename,header=None,index=None)\n",
    "# write cartesian\n",
    "rv_filename=f\"traj_{sim.integrator}_rv.csv\"\n",
    "rv_array = np.column_stack((MJD,x,y,z,vx,vy,vz))\n",
    "pd.DataFrame(rv_array).to_csv(rv_filename,header=None,index=None)"
   ]
  },
  {
   "cell_type": "markdown",
   "metadata": {},
   "source": [
    "# visualization"
   ]
  },
  {
   "cell_type": "code",
   "execution_count": 11,
   "metadata": {},
   "outputs": [],
   "source": [
    "import matplotlib.pyplot as plt\n",
    "from mpl_toolkits import mplot3d"
   ]
  },
  {
   "cell_type": "code",
   "execution_count": 12,
   "metadata": {},
   "outputs": [
    {
     "data": {
      "image/png": "[encoded data removed]",
      "text/plain": [
       "<Figure size 432x288 with 1 Axes>"
      ]
     },
     "metadata": {},
     "output_type": "display_data"
    }
   ],
   "source": [
    "# trajectory\n",
    "plt.style.use('dark_background')\n",
    "fig = plt.figure()\n",
    "ax = plt.axes(projection='3d')\n",
    "ax.grid(False)\n",
    "ax.plot3D(x, y, z, 'yellow')\n",
    "ax.set_xlabel('x')\n",
    "ax.set_ylabel('y')\n",
    "ax.set_zlabel('z')\n",
    "\n",
    "# make the panes black\n",
    "ax.xaxis.set_pane_color((0.0, 0.0, 0.0, 1.0))\n",
    "ax.yaxis.set_pane_color((0.0, 0.0, 0.0, 1.0))\n",
    "ax.zaxis.set_pane_color((0.0, 0.0, 0.0, 1.0))"
   ]
  },
  {
   "cell_type": "code",
   "execution_count": 13,
   "metadata": {
    "scrolled": true
   },
   "outputs": [
    {
     "name": "stdout",
     "output_type": "stream",
     "text": [
      "2.117582368135751e-22\n"
     ]
    },
    {
     "data": {
      "image/png": "[encoded data removed]",
      "text/plain": [
       "<Figure size 360x360 with 1 Axes>"
      ]
     },
     "metadata": {},
     "output_type": "display_data"
    }
   ],
   "source": [
    "# energy\n",
    "plt.style.use('dark_background')\n",
    "fig = plt.figure(figsize=(5,5))\n",
    "ax = plt.subplot(111)\n",
    "plt.plot(MJD, Energy, 'green')\n",
    "ax.set_xlabel('MJD')\n",
    "ax.set_ylabel('Energy')\n",
    "\n",
    "print(Energy[-1]-Energy[0])"
   ]
  },
  {
   "cell_type": "markdown",
   "metadata": {},
   "source": [
    "## mercurius"
   ]
  },
  {
   "cell_type": "code",
   "execution_count": 14,
   "metadata": {},
   "outputs": [
    {
     "name": "stdout",
     "output_type": "stream",
     "text": [
      "dt = 8.370913386861327 min\n",
      "ias15 accuracy = 1e-08\n"
     ]
    }
   ],
   "source": [
    "# load sim binary\n",
    "sim = rebound.Simulation(simfile)\n",
    "sim.integrator = 'mercurius'\n",
    "sim.dt = 0.0001\n",
    "sim.ri_ias15.epsilon = 1e-8 # control accuracy for ias15\n",
    "print(f'dt = {sim.dt/(2*np.pi)*365.25*24*60} min')\n",
    "print(f'ias15 accuracy = {sim.ri_ias15.epsilon}')"
   ]
  },
  {
   "cell_type": "code",
   "execution_count": 15,
   "metadata": {},
   "outputs": [
    {
     "name": "stdout",
     "output_type": "stream",
     "text": [
      "model MJD = 59215.0\n"
     ]
    }
   ],
   "source": [
    "Noutputs = 1000\n",
    "Long_term_year = 30/365.25 # 1 year is 1 year on Earth, in rebound 365.25 days\n",
    "year = 2.*np.pi # One year in units where G=1\n",
    "times = np.linspace(0.,Long_term_year*year, Noutputs)\n",
    "MJD,a,e,inc,Omega,omega,M = np.zeros((7,Noutputs))\n",
    "Energy = np.zeros(Noutputs)\n",
    "x,y,z,vx,vy,vz = np.zeros((6,Noutputs))\n",
    "print(f'model MJD = {MJD_model}')"
   ]
  },
  {
   "cell_type": "code",
   "execution_count": 16,
   "metadata": {},
   "outputs": [
    {
     "name": "stderr",
     "output_type": "stream",
     "text": [
      " 94% (28.4984984984985 of 30.0) |####### | Elapsed Time: 0:00:00 ETA:   0:00:00"
     ]
    }
   ],
   "source": [
    "# conduct integration\n",
    "sim.move_to_com()  # We always move to the center of momentum frame \n",
    "ps = sim.particles # ps is now an array of pointers and will change as the simulation runs\n",
    "bar = progressbar.ProgressBar(max_value=max(times/year*365.25)) # progress bar\n",
    "for i,time in enumerate(times):\n",
    "    bar.update(time/year*365.25) # updating bar\n",
    "    sim.integrate(time)\n",
    "    # get orbit element from numerical integration in radians with Sun\n",
    "    MJD[i] = MJD_model + time/year*365.25\n",
    "    # orbit parameters\n",
    "    orbit = ps[-1].calculate_orbit(primary=sim.particles[0])\n",
    "    a[i],e[i],inc[i] = orbit.a, orbit.e, orbit.inc\n",
    "    Omega[i],omega[i],M[i] = orbit.Omega, orbit.omega, orbit.M\n",
    "    Energy[i] = sim.calculate_energy()\n",
    "    # cartesian parameters\n",
    "    ptc = ps[-1]\n",
    "    x[i],y[i],z[i] = ptc.x, ptc.y, ptc.z\n",
    "    vx[i],vy[i],vz[i] = ptc.vx, ptc.vy, ptc.vz"
   ]
  },
  {
   "cell_type": "code",
   "execution_count": 17,
   "metadata": {},
   "outputs": [],
   "source": [
    "# write trajectory\n",
    "oe_filename=f\"traj_{sim.integrator}_oe.csv\"\n",
    "oe_array = np.column_stack((MJD,a,e,inc,Omega,omega,M))\n",
    "pd.DataFrame(oe_array).to_csv(oe_filename,header=None,index=None)\n",
    "# write cartesian\n",
    "rv_filename=f\"traj_{sim.integrator}_rv.csv\"\n",
    "rv_array = np.column_stack((MJD,x,y,z,vx,vy,vz))\n",
    "pd.DataFrame(rv_array).to_csv(rv_filename,header=None,index=None)"
   ]
  },
  {
   "cell_type": "markdown",
   "metadata": {},
   "source": [
    "# visualization"
   ]
  },
  {
   "cell_type": "code",
   "execution_count": 18,
   "metadata": {},
   "outputs": [],
   "source": [
    "import matplotlib.pyplot as plt\n",
    "from mpl_toolkits import mplot3d"
   ]
  },
  {
   "cell_type": "code",
   "execution_count": 19,
   "metadata": {},
   "outputs": [
    {
     "data": {
      "image/png": "[encoded data removed]",
      "text/plain": [
       "<Figure size 432x288 with 1 Axes>"
      ]
     },
     "metadata": {},
     "output_type": "display_data"
    }
   ],
   "source": [
    "# trajectory\n",
    "plt.style.use('dark_background')\n",
    "fig = plt.figure()\n",
    "ax = plt.axes(projection='3d')\n",
    "ax.grid(False)\n",
    "ax.plot3D(x, y, z, 'yellow')\n",
    "ax.set_xlabel('x')\n",
    "ax.set_ylabel('y')\n",
    "ax.set_zlabel('z')\n",
    "\n",
    "# make the panes black\n",
    "ax.xaxis.set_pane_color((0.0, 0.0, 0.0, 1.0))\n",
    "ax.yaxis.set_pane_color((0.0, 0.0, 0.0, 1.0))\n",
    "ax.zaxis.set_pane_color((0.0, 0.0, 0.0, 1.0))"
   ]
  },
  {
   "cell_type": "code",
   "execution_count": 20,
   "metadata": {
    "scrolled": true
   },
   "outputs": [
    {
     "name": "stdout",
     "output_type": "stream",
     "text": [
      "5.94862345010749e-16\n"
     ]
    },
    {
     "data": {
      "image/png": "[encoded data removed]",
      "text/plain": [
       "<Figure size 360x360 with 1 Axes>"
      ]
     },
     "metadata": {},
     "output_type": "display_data"
    }
   ],
   "source": [
    "# energy\n",
    "plt.style.use('dark_background')\n",
    "fig = plt.figure(figsize=(5,5))\n",
    "ax = plt.subplot(111)\n",
    "plt.plot(MJD, Energy, 'green')\n",
    "ax.set_xlabel('MJD')\n",
    "ax.set_ylabel('Energy')\n",
    "\n",
    "print(Energy[-1]-Energy[0])"
   ]
  },
  {
   "cell_type": "code",
   "execution_count": null,
   "metadata": {},
   "outputs": [],
   "source": []
  }
 ],
 "metadata": {
  "kernelspec": {
   "display_name": "Python 3",
   "language": "python",
   "name": "python3"
  },
  "language_info": {
   "codemirror_mode": {
    "name": "ipython",
    "version": 3
   },
   "file_extension": ".py",
   "mimetype": "text/x-python",
   "name": "python",
   "nbconvert_exporter": "python",
   "pygments_lexer": "ipython3",
   "version": "3.7.3"
  }
 },
 "nbformat": 4,
 "nbformat_minor": 2
}
